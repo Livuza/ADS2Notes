{
 "cells": [
  {
   "cell_type": "code",
   "execution_count": 3,
   "id": "3ab592d4",
   "metadata": {},
   "outputs": [
    {
     "name": "stdout",
     "output_type": "stream",
     "text": [
      "Year: 2000\n",
      "2000 is a Leap Year\n"
     ]
    }
   ],
   "source": [
    "year = int(input(\"Year: \"))\n",
    "if year%4 ==0 or year%100 == 0 or year%400 == 0:\n",
    "    print(f\"{year} is a Leap Year\")\n",
    "else:\n",
    "    print(f\"{year} is an Ordinary Year\")"
   ]
  },
  {
   "cell_type": "code",
   "execution_count": 11,
   "id": "87f999dd",
   "metadata": {},
   "outputs": [
    {
     "name": "stdout",
     "output_type": "stream",
     "text": [
      "Year: 2002\n",
      "2002 is an Odd Year\n"
     ]
    }
   ],
   "source": [
    "year = int(input(\"Year: \"))\n",
    "if year%4 ==0:\n",
    "    print(f\"{year} is a Leap Year\")\n",
    "elif year%100 == 0:\n",
    "    print(f\"{year} is a Leap Year\")\n",
    "elif year%400 == 0:\n",
    "    print(f\"{year} is a Leap Year\")\n",
    "else:\n",
    "    print(f\"{year} is an Ordinary Year\")"
   ]
  }
 ],
 "metadata": {
  "kernelspec": {
   "display_name": "Python 3 (ipykernel)",
   "language": "python",
   "name": "python3"
  },
  "language_info": {
   "codemirror_mode": {
    "name": "ipython",
    "version": 3
   },
   "file_extension": ".py",
   "mimetype": "text/x-python",
   "name": "python",
   "nbconvert_exporter": "python",
   "pygments_lexer": "ipython3",
   "version": "3.9.7"
  }
 },
 "nbformat": 4,
 "nbformat_minor": 5
}
