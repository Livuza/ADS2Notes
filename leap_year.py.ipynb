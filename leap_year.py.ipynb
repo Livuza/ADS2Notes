{
 "cells": [
  {
   "cell_type": "code",
   "execution_count": 4,
   "id": "a241e98a",
   "metadata": {},
   "outputs": [],
   "source": [
    "##Solution"
   ]
  },
  {
   "cell_type": "code",
   "execution_count": 10,
   "id": "3ab592d4",
   "metadata": {},
   "outputs": [
    {
     "name": "stdout",
     "output_type": "stream",
     "text": [
      "Enter year: 8000\n",
      "8000 is a Leap Year\n"
     ]
    }
   ],
   "source": [
    "year = int(input(\"Enter year: \"))\n",
    "if year%4 !=0:\n",
    "    print(f\"{year} is not a Leap Year\")\n",
    "else:\n",
    "    if year%100 != 0:\n",
    "        print(f\"{year} is a Leap Year\")\n",
    "    else:\n",
    "            if year%400 != 0:\n",
    "                print(f\"{year} is not a Leap Year\")\n",
    "            else:\n",
    "                print(f\"{year} is a Leap Year\")"
   ]
  },
  {
   "cell_type": "code",
   "execution_count": 16,
   "id": "87f999dd",
   "metadata": {},
   "outputs": [
    {
     "name": "stdout",
     "output_type": "stream",
     "text": [
      "Year: 2012\n",
      "2012 is a Leap Year\n"
     ]
    }
   ],
   "source": [
    "year = int(input(\"Year: \"))\n",
    "if year%4 !=0:\n",
    "    print(f\"{year} is not a leap Year\")\n",
    "elif year%100 != 0:\n",
    "    print(f\"{year} is a Leap Year\")\n",
    "elif year%400 != 0:\n",
    "    print(f\"{year} is not a Leap Year\")\n",
    "else:\n",
    "    print(f\"{year} is a Leap Year\")"
   ]
  },
  {
   "cell_type": "code",
   "execution_count": 9,
   "id": "30b4592b",
   "metadata": {},
   "outputs": [
    {
     "name": "stdout",
     "output_type": "stream",
     "text": [
      "Enter the year to check for8000\n",
      "8000 is a leap year\n"
     ]
    }
   ],
   "source": [
    "year = int(input('Enter the year to check for'))\n",
    "\n",
    "if year%4 != 0:\n",
    "    print(f'{year} is not a leap year')\n",
    "else:\n",
    "    if year%100 != 0:\n",
    "        print(f'{year} is a leap year')\n",
    "    else:\n",
    "        if year%400 != 0:\n",
    "            print(f'{year} is not a leap year')\n",
    "        else:\n",
    "            print(f'{year} is a leap year')"
   ]
  },
  {
   "cell_type": "code",
   "execution_count": 25,
   "id": "ae135f41",
   "metadata": {},
   "outputs": [
    {
     "data": {
      "text/plain": [
       "7"
      ]
     },
     "execution_count": 25,
     "metadata": {},
     "output_type": "execute_result"
    }
   ],
   "source": [
    "import random\n",
    "rand_int = random.randint(1,10)\n",
    "rand_int"
   ]
  },
  {
   "cell_type": "code",
   "execution_count": 28,
   "id": "1b71e420",
   "metadata": {},
   "outputs": [
    {
     "name": "stdout",
     "output_type": "stream",
     "text": [
      "5\n"
     ]
    }
   ],
   "source": [
    "new_int=random.randrange(1,10)\n",
    "print(new_int)"
   ]
  },
  {
   "cell_type": "code",
   "execution_count": 31,
   "id": "608334a4",
   "metadata": {},
   "outputs": [
    {
     "name": "stdout",
     "output_type": "stream",
     "text": [
      "Heads\n"
     ]
    }
   ],
   "source": [
    "import random\n",
    "def coinToss():\n",
    "    return random.choice(['Tails', 'Heads'])\n",
    "print(coinToss())"
   ]
  },
  {
   "cell_type": "code",
   "execution_count": 33,
   "id": "c623210e",
   "metadata": {},
   "outputs": [
    {
     "name": "stdout",
     "output_type": "stream",
     "text": [
      "Heads\n"
     ]
    }
   ],
   "source": [
    "import random\n",
    "# 1 = Heads\n",
    "# 0 = Tails\n",
    "rand = random.randint(0,1)\n",
    "if rand == 0:\n",
    "    print(\"Tails\")\n",
    "elif rand == 1:\n",
    "    print(\"Heads\")"
   ]
  }
 ],
 "metadata": {
  "kernelspec": {
   "display_name": "Python 3 (ipykernel)",
   "language": "python",
   "name": "python3"
  },
  "language_info": {
   "codemirror_mode": {
    "name": "ipython",
    "version": 3
   },
   "file_extension": ".py",
   "mimetype": "text/x-python",
   "name": "python",
   "nbconvert_exporter": "python",
   "pygments_lexer": "ipython3",
   "version": "3.9.7"
  }
 },
 "nbformat": 4,
 "nbformat_minor": 5
}
