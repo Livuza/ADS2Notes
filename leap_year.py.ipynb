{
 "cells": [
  {
   "cell_type": "code",
   "execution_count": 12,
   "id": "3ab592d4",
   "metadata": {},
   "outputs": [
    {
     "name": "stdout",
     "output_type": "stream",
     "text": [
      "Year: 2002\n",
      "2002 is an Ordinary Year\n"
     ]
    }
   ],
   "source": [
    "year = int(input(\"Year: \"))\n",
    "if year%4 ==0 and year%100 == 0 and year%400 == 0:\n",
    "    print(f\"{year} is a Leap Year\")\n",
    "else:\n",
    "    print(f\"{year} is an Ordinary Year\")"
   ]
  },
  {
   "cell_type": "code",
   "execution_count": 11,
   "id": "87f999dd",
   "metadata": {},
   "outputs": [
    {
     "name": "stdout",
     "output_type": "stream",
     "text": [
      "Year: 2002\n",
      "2002 is an Odd Year\n"
     ]
    }
   ],
   "source": [
    "year = int(input(\"Year: \"))\n",
    "if year%4 ==0:\n",
    "    print(f\"{year} is a Leap Year\")\n",
    "elif year%100 == 0:\n",
    "    print(f\"{year} is a Leap Year\")\n",
    "elif year%400 == 0:\n",
    "    print(f\"{year} is a Leap Year\")\n",
    "else:\n",
    "    print(f\"{year} is an Ordinary Year\")"
   ]
  },
  {
   "cell_type": "code",
   "execution_count": null,
   "id": "875156a6",
   "metadata": {},
   "outputs": [],
   "source": []
  }
 ],
 "metadata": {
  "kernelspec": {
   "display_name": "Python 3 (ipykernel)",
   "language": "python",
   "name": "python3"
  },
  "language_info": {
   "codemirror_mode": {
    "name": "ipython",
    "version": 3
   },
   "file_extension": ".py",
   "mimetype": "text/x-python",
   "name": "python",
   "nbconvert_exporter": "python",
   "pygments_lexer": "ipython3",
   "version": "3.9.7"
  }
 },
 "nbformat": 4,
 "nbformat_minor": 5
}
