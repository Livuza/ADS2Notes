{
 "cells": [
  {
   "cell_type": "code",
   "execution_count": 10,
   "id": "6ffc34c4",
   "metadata": {},
   "outputs": [
    {
     "name": "stdout",
     "output_type": "stream",
     "text": [
      "Verfying user: Francis\n",
      "\n",
      "The following user have been confirmed :\n",
      "Francis\n",
      "Verfying user: Pauline\n",
      "\n",
      "The following user have been confirmed :\n",
      "Francis\n",
      "Pauline\n",
      "Verfying user: Sharon\n",
      "\n",
      "The following user have been confirmed :\n",
      "Francis\n",
      "Pauline\n",
      "Sharon\n",
      "Verfying user: Charles\n",
      "\n",
      "The following user have been confirmed :\n",
      "Francis\n",
      "Pauline\n",
      "Sharon\n",
      "Charles\n"
     ]
    }
   ],
   "source": [
    "#unverified users\n",
    "unconfirmed_users = [\"Charles\", \"Sharon\", \"Pauline\", 'Francis']\n",
    "confirmed_users =[]\n",
    "#verify each user and move to confirmed list\n",
    "while unconfirmed_users:\n",
    "    current_user = unconfirmed_users.pop()\n",
    "    print(\"Verfying user: \" + current_user.title())\n",
    "    confirmed_users.append(current_user)\n",
    "    print(\"\\nThe following user have been confirmed :\")\n",
    "    for confirmed_user in confirmed_users:\n",
    "        print(confirmed_user.title())"
   ]
  },
  {
   "cell_type": "code",
   "execution_count": null,
   "id": "6240ffe0",
   "metadata": {},
   "outputs": [],
   "source": []
  }
 ],
 "metadata": {
  "kernelspec": {
   "display_name": "Python 3 (ipykernel)",
   "language": "python",
   "name": "python3"
  },
  "language_info": {
   "codemirror_mode": {
    "name": "ipython",
    "version": 3
   },
   "file_extension": ".py",
   "mimetype": "text/x-python",
   "name": "python",
   "nbconvert_exporter": "python",
   "pygments_lexer": "ipython3",
   "version": "3.9.7"
  }
 },
 "nbformat": 4,
 "nbformat_minor": 5
}
