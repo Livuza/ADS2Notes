{
 "cells": [
  {
   "cell_type": "code",
   "execution_count": 1,
   "id": "c1e4a4d9",
   "metadata": {},
   "outputs": [
    {
     "data": {
      "text/plain": [
       "int"
      ]
     },
     "execution_count": 1,
     "metadata": {},
     "output_type": "execute_result"
    }
   ],
   "source": [
    "a=5\n",
    "type(a)"
   ]
  },
  {
   "cell_type": "code",
   "execution_count": null,
   "id": "4fdbba58",
   "metadata": {},
   "outputs": [],
   "source": [
    "cohort = {\n",
    "    'course': 'Data Science', \n",
    "    'start':'Jan', \n",
    "    'end': 'Mar',\n",
    "    'students': [\n",
    "        {\n",
    "            'name': 'Njogu',\n",
    "            'age': 30, \n",
    "            'country': 'Kenya',\n",
    "            'assignment_scores': {'assignment_1': 50, 'assignment_2': 70, 'assignment_3': 65}\n",
    "        },\n",
    "        {\n",
    "            'name': 'Chinedu',\n",
    "            'age': 29,\n",
    "            'country': 'Nigeria',\n",
    "            'assignment_scores': {'assignment_1': 55, 'assignment_2': 60, 'assignment_3': 85}\n",
    "        }\n",
    "    ]\n",
    "}"
   ]
  },
  {
   "cell_type": "code",
   "execution_count": 3,
   "id": "8504ae3a",
   "metadata": {},
   "outputs": [
    {
     "data": {
      "text/plain": [
       "int"
      ]
     },
     "execution_count": 3,
     "metadata": {},
     "output_type": "execute_result"
    }
   ],
   "source": [
    "a=5\n",
    "type(a)"
   ]
  },
  {
   "cell_type": "code",
   "execution_count": 15,
   "id": "bb25cc76",
   "metadata": {},
   "outputs": [
    {
     "data": {
      "text/plain": [
       "{'name': 'Charles', 'age': 77, 'Country': 'UK'}"
      ]
     },
     "execution_count": 15,
     "metadata": {},
     "output_type": "execute_result"
    }
   ],
   "source": [
    "person = {\"name\": \"Charles\", \"age\":77, \"Country\": \"UK\"}\n",
    "person"
   ]
  },
  {
   "cell_type": "code",
   "execution_count": 17,
   "id": "42e24534",
   "metadata": {},
   "outputs": [
    {
     "data": {
      "text/plain": [
       "'Charles'"
      ]
     },
     "execution_count": 17,
     "metadata": {},
     "output_type": "execute_result"
    }
   ],
   "source": [
    "name = person['name']\n",
    "name"
   ]
  },
  {
   "cell_type": "code",
   "execution_count": 25,
   "id": "6a15b539",
   "metadata": {},
   "outputs": [
    {
     "data": {
      "text/plain": [
       "77"
      ]
     },
     "execution_count": 25,
     "metadata": {},
     "output_type": "execute_result"
    }
   ],
   "source": [
    "Country = person['Country']\n",
    "age"
   ]
  },
  {
   "cell_type": "code",
   "execution_count": 53,
   "id": "44e9cdc9",
   "metadata": {},
   "outputs": [
    {
     "name": "stdout",
     "output_type": "stream",
     "text": [
      "Enter a choice(scissors,paper,rock): r\n",
      "You chose r, computer chose scissors.\n"
     ]
    }
   ],
   "source": [
    "import random\n",
    "user_action = input(\"Enter a choice(scissors,paper,rock): \")\n",
    "possible_actions = [\"scissors\",\"paper\",\"rock\"]\n",
    "computer_action = random.choice(possible_actions)\n",
    "print(f\"You chose {user_action}, computer chose {computer_action}.\")\n",
    "if user_action == computer_action:\n",
    "    print(f\"both players selected {user_action}. You tied!\")\n",
    "elif user_action == \"scissors\":\n",
    "    if computer_action == \"rock\":\n",
    "        print(\"Rock smashes scissors. You lose!\")\n",
    "    else:\n",
    "        print (\"scissors cuts paper. You win!\")\n",
    "elif user_action ==\" rock\":\n",
    "    if computer_action == \"paper\":\n",
    "        print(\" paper smashes rock. You lose!\")\n",
    "    else:\n",
    "        print(\"Rock smashes scissors. You win!\")\n",
    "elif user_action== \"paper\":\n",
    "    if computer_action == \"scissors\":\n",
    "        print(\"scissors cuts paper. You lose!\")\n",
    "    else:\n",
    "        print(\"Paper smashes rock. You win!\")"
   ]
  },
  {
   "cell_type": "code",
   "execution_count": 54,
   "id": "8dfd6ed6",
   "metadata": {},
   "outputs": [
    {
     "name": "stdout",
     "output_type": "stream",
     "text": [
      "1\n",
      "3\n",
      "5\n",
      "7\n",
      "9\n"
     ]
    }
   ],
   "source": [
    "number = 0\n",
    "while number < 10:\n",
    "    number += 1\n",
    "    if number % 2 == 0:\n",
    "        continue\n",
    "    print(number)"
   ]
  },
  {
   "cell_type": "code",
   "execution_count": 55,
   "id": "3ca17887",
   "metadata": {},
   "outputs": [
    {
     "data": {
      "text/plain": [
       "0.0"
      ]
     },
     "execution_count": 55,
     "metadata": {},
     "output_type": "execute_result"
    }
   ],
   "source": [
    "0/2"
   ]
  },
  {
   "cell_type": "code",
   "execution_count": 56,
   "id": "e3a83f51",
   "metadata": {},
   "outputs": [
    {
     "data": {
      "text/plain": [
       "1.6666666666666667"
      ]
     },
     "execution_count": 56,
     "metadata": {},
     "output_type": "execute_result"
    }
   ],
   "source": [
    "5/3"
   ]
  },
  {
   "cell_type": "code",
   "execution_count": null,
   "id": "921a0094",
   "metadata": {},
   "outputs": [
    {
     "name": "stdout",
     "output_type": "stream",
     "text": [
      "Make your choice:\n",
      "r\n",
      "Your choice is r\n",
      "Computer choice is rock\n",
      "invalid choice, try again\n",
      "\n",
      "Make your choice:\n"
     ]
    }
   ],
   "source": [
    "import random\n",
    "\n",
    "while True: \n",
    "    print('Make your choice:')\n",
    "    choice = str(input())\n",
    "    choice = choice.lower()\n",
    "\n",
    "    print(\"Your choice is\", choice)\n",
    "\n",
    "    choices = ['rock', 'paper', 'scissors']\n",
    "\n",
    "    computer_choice = random.choice(choices)\n",
    "\n",
    "    print(\"Computer choice is\", computer_choice)\n",
    "    if choice in choices:\n",
    "        if choice == computer_choice:\n",
    "            print('it is a tie')\n",
    "        if choice == 'rock':\n",
    "            if computer_choice == 'paper':\n",
    "                print('you lose, sorry :(')\n",
    "            elif computer_choice == 'scissors':\n",
    "                print('You win!!!!! congrats :)')\n",
    "        if choice == 'paper':\n",
    "            if computer_choice == 'scissors':\n",
    "                print('you lose, sorry :(')\n",
    "            elif computer_choice == 'rock':\n",
    "                print('You win!!!!! congrats :)')\n",
    "        if choice == 'scissors':\n",
    "            if computer_choice == 'rock':\n",
    "                print('you lose, sorry :(')\n",
    "            elif computer_choice == 'paper':\n",
    "                print('You win!!!!! congrats :)')\n",
    "    else:\n",
    "        print('invalid choice, try again')\n",
    "\n",
    "    print()"
   ]
  },
  {
   "cell_type": "code",
   "execution_count": 1,
   "id": "0ca58f11",
   "metadata": {},
   "outputs": [
    {
     "data": {
      "text/plain": [
       "{'name': 'James Bond', 'age': 77, 'Country': 'Kenya'}"
      ]
     },
     "execution_count": 1,
     "metadata": {},
     "output_type": "execute_result"
    }
   ],
   "source": [
    "person = {\"name\": \"James Bond\", \"age\":77, \"Country\": \"Kenya\"}\n",
    "person"
   ]
  },
  {
   "cell_type": "code",
   "execution_count": 10,
   "id": "f1e9f875",
   "metadata": {},
   "outputs": [
    {
     "name": "stdout",
     "output_type": "stream",
     "text": [
      "James Bond\n"
     ]
    }
   ],
   "source": [
    "x=person[\"name\"]\n",
    "print(x)"
   ]
  },
  {
   "cell_type": "code",
   "execution_count": 6,
   "id": "c3a45448",
   "metadata": {},
   "outputs": [
    {
     "name": "stdout",
     "output_type": "stream",
     "text": [
      "James Bond\n"
     ]
    }
   ],
   "source": [
    "print(x)"
   ]
  },
  {
   "cell_type": "code",
   "execution_count": 7,
   "id": "9578f51a",
   "metadata": {},
   "outputs": [
    {
     "name": "stdout",
     "output_type": "stream",
     "text": [
      "Kenya\n"
     ]
    }
   ],
   "source": [
    "x=person[\"Country\"]\n",
    "print(x)"
   ]
  },
  {
   "cell_type": "code",
   "execution_count": 9,
   "id": "41ff819a",
   "metadata": {},
   "outputs": [
    {
     "name": "stdout",
     "output_type": "stream",
     "text": [
      "77\n"
     ]
    }
   ],
   "source": [
    "age=person['age']\n",
    "print(age)"
   ]
  },
  {
   "cell_type": "code",
   "execution_count": 11,
   "id": "9ab8d30d",
   "metadata": {},
   "outputs": [],
   "source": [
    "person[\"City\"]=\"Nairobi\""
   ]
  },
  {
   "cell_type": "code",
   "execution_count": 13,
   "id": "2dc03be7",
   "metadata": {},
   "outputs": [
    {
     "name": "stdout",
     "output_type": "stream",
     "text": [
      "{'name': 'James Bond', 'age': 77, 'Country': 'Kenya', 'City': 'Nairobi'}\n"
     ]
    }
   ],
   "source": [
    "print(person)"
   ]
  },
  {
   "cell_type": "code",
   "execution_count": 14,
   "id": "24a1cc8a",
   "metadata": {},
   "outputs": [
    {
     "data": {
      "text/plain": [
       "{'name': 'Pauline', 'age': 77, 'Country': 'Kenya', 'City': 'Nairobi'}"
      ]
     },
     "execution_count": 14,
     "metadata": {},
     "output_type": "execute_result"
    }
   ],
   "source": [
    "person[\"name\"]=\"Pauline\"\n",
    "person"
   ]
  },
  {
   "cell_type": "code",
   "execution_count": 15,
   "id": "cd719f63",
   "metadata": {},
   "outputs": [
    {
     "data": {
      "text/plain": [
       "'Pauline'"
      ]
     },
     "execution_count": 15,
     "metadata": {},
     "output_type": "execute_result"
    }
   ],
   "source": [
    "name=person['name']\n",
    "name"
   ]
  },
  {
   "cell_type": "code",
   "execution_count": 16,
   "id": "5b3aa809",
   "metadata": {},
   "outputs": [
    {
     "name": "stdout",
     "output_type": "stream",
     "text": [
      "77\n"
     ]
    }
   ],
   "source": [
    "age=person['age']\n",
    "print(age)"
   ]
  },
  {
   "cell_type": "code",
   "execution_count": 17,
   "id": "93c552cb",
   "metadata": {},
   "outputs": [
    {
     "data": {
      "text/plain": [
       "{'name': 'Pauline',\n",
       " 'age': 77,\n",
       " 'Country': 'Kenya',\n",
       " 'City': 'Nairobi',\n",
       " 'County': 'Vihiga'}"
      ]
     },
     "execution_count": 17,
     "metadata": {},
     "output_type": "execute_result"
    }
   ],
   "source": [
    "person[\"County\"]=\"Vihiga\"\n",
    "person"
   ]
  },
  {
   "cell_type": "code",
   "execution_count": 18,
   "id": "2a9629f0",
   "metadata": {},
   "outputs": [
    {
     "data": {
      "text/plain": [
       "{'name': 'Pauline', 'age': 77, 'Country': 'Kenya', 'City': 'Nairobi'}"
      ]
     },
     "execution_count": 18,
     "metadata": {},
     "output_type": "execute_result"
    }
   ],
   "source": [
    "del person[\"County\"]\n",
    "person"
   ]
  },
  {
   "cell_type": "code",
   "execution_count": 20,
   "id": "6442b52b",
   "metadata": {},
   "outputs": [
    {
     "data": {
      "text/plain": [
       "'Nairobi'"
      ]
     },
     "execution_count": 20,
     "metadata": {},
     "output_type": "execute_result"
    }
   ],
   "source": [
    "city=person.pop(\"City\")\n",
    "city"
   ]
  },
  {
   "cell_type": "code",
   "execution_count": 21,
   "id": "12b011d2",
   "metadata": {},
   "outputs": [
    {
     "name": "stdout",
     "output_type": "stream",
     "text": [
      "{'name': 'Pauline', 'age': 77, 'Country': 'Kenya'}\n"
     ]
    }
   ],
   "source": [
    "print(person)"
   ]
  },
  {
   "cell_type": "code",
   "execution_count": 22,
   "id": "6027c252",
   "metadata": {},
   "outputs": [
    {
     "data": {
      "text/plain": [
       "'Pauline'"
      ]
     },
     "execution_count": 22,
     "metadata": {},
     "output_type": "execute_result"
    }
   ],
   "source": [
    "x=person.pop('name')\n",
    "x"
   ]
  },
  {
   "cell_type": "code",
   "execution_count": 23,
   "id": "e5cccac8",
   "metadata": {},
   "outputs": [
    {
     "data": {
      "text/plain": [
       "{'age': 77, 'Country': 'Kenya'}"
      ]
     },
     "execution_count": 23,
     "metadata": {},
     "output_type": "execute_result"
    }
   ],
   "source": [
    "person"
   ]
  },
  {
   "cell_type": "code",
   "execution_count": 24,
   "id": "23038466",
   "metadata": {},
   "outputs": [
    {
     "data": {
      "text/plain": [
       "{'Country': 'Kenya'}"
      ]
     },
     "execution_count": 24,
     "metadata": {},
     "output_type": "execute_result"
    }
   ],
   "source": [
    "age=person.pop('age')\n",
    "person"
   ]
  },
  {
   "cell_type": "code",
   "execution_count": 27,
   "id": "c028387e",
   "metadata": {},
   "outputs": [
    {
     "data": {
      "text/plain": [
       "{'Country': 'Kenya', 'City': 'Nairobi'}"
      ]
     },
     "execution_count": 27,
     "metadata": {},
     "output_type": "execute_result"
    }
   ],
   "source": [
    "person['City'] = 'Nairobi'\n",
    "person"
   ]
  },
  {
   "cell_type": "code",
   "execution_count": 28,
   "id": "f1e4ee34",
   "metadata": {},
   "outputs": [
    {
     "data": {
      "text/plain": [
       "('City', 'Nairobi')"
      ]
     },
     "execution_count": 28,
     "metadata": {},
     "output_type": "execute_result"
    }
   ],
   "source": [
    "Country=person.popitem()\n",
    "Country"
   ]
  },
  {
   "cell_type": "code",
   "execution_count": 29,
   "id": "b58508a1",
   "metadata": {},
   "outputs": [
    {
     "data": {
      "text/plain": [
       "{'Country': 'Kenya', 'age': 88}"
      ]
     },
     "execution_count": 29,
     "metadata": {},
     "output_type": "execute_result"
    }
   ],
   "source": [
    "person ['age']=88\n",
    "person"
   ]
  },
  {
   "cell_type": "code",
   "execution_count": 32,
   "id": "2db69434",
   "metadata": {},
   "outputs": [
    {
     "data": {
      "text/plain": [
       "('age', 88)"
      ]
     },
     "execution_count": 32,
     "metadata": {},
     "output_type": "execute_result"
    }
   ],
   "source": [
    "age=person.popitem()\n",
    "age"
   ]
  },
  {
   "cell_type": "code",
   "execution_count": 33,
   "id": "7766d75f",
   "metadata": {},
   "outputs": [
    {
     "data": {
      "text/plain": [
       "{'Country': 'Kenya'}"
      ]
     },
     "execution_count": 33,
     "metadata": {},
     "output_type": "execute_result"
    }
   ],
   "source": [
    "person"
   ]
  },
  {
   "cell_type": "code",
   "execution_count": 34,
   "id": "7d95a651",
   "metadata": {},
   "outputs": [
    {
     "data": {
      "text/plain": [
       "{'Country': 'Kenya', 'age': 90}"
      ]
     },
     "execution_count": 34,
     "metadata": {},
     "output_type": "execute_result"
    }
   ],
   "source": [
    "person ['age']=90\n",
    "person"
   ]
  },
  {
   "cell_type": "code",
   "execution_count": 35,
   "id": "43632e2e",
   "metadata": {},
   "outputs": [
    {
     "data": {
      "text/plain": [
       "{'Country': 'Kenya', 'age': 90, 'city': 'Nairobi'}"
      ]
     },
     "execution_count": 35,
     "metadata": {},
     "output_type": "execute_result"
    }
   ],
   "source": [
    "person ['city']=\"Nairobi\"\n",
    "person"
   ]
  },
  {
   "cell_type": "code",
   "execution_count": 36,
   "id": "cebdae6e",
   "metadata": {},
   "outputs": [
    {
     "data": {
      "text/plain": [
       "{'Country': 'Kenya', 'age': 90, 'city': 'Nairobi', 'county': 'vihiga'}"
      ]
     },
     "execution_count": 36,
     "metadata": {},
     "output_type": "execute_result"
    }
   ],
   "source": [
    "person ['county']=\"vihiga\"\n",
    "person"
   ]
  },
  {
   "cell_type": "code",
   "execution_count": 37,
   "id": "708f345d",
   "metadata": {},
   "outputs": [
    {
     "data": {
      "text/plain": [
       "{'Country': 'Kenya', 'age': 90, 'city': 'Nairobi'}"
      ]
     },
     "execution_count": 37,
     "metadata": {},
     "output_type": "execute_result"
    }
   ],
   "source": [
    "x=person.popitem()\n",
    "person"
   ]
  },
  {
   "cell_type": "code",
   "execution_count": 38,
   "id": "7f7be815",
   "metadata": {},
   "outputs": [
    {
     "ename": "SyntaxError",
     "evalue": "cannot delete function call (2335690265.py, line 1)",
     "output_type": "error",
     "traceback": [
      "\u001b[0;36m  File \u001b[0;32m\"/var/folders/gd/j9z6slqx4yn9_2s48t3qn3nm0000gn/T/ipykernel_28133/2335690265.py\"\u001b[0;36m, line \u001b[0;32m1\u001b[0m\n\u001b[0;31m    del person(\"Country\")\u001b[0m\n\u001b[0m        ^\u001b[0m\n\u001b[0;31mSyntaxError\u001b[0m\u001b[0;31m:\u001b[0m cannot delete function call\n"
     ]
    }
   ],
   "source": [
    "del person(\"Country\")\n",
    "person"
   ]
  },
  {
   "cell_type": "code",
   "execution_count": 39,
   "id": "b256ed24",
   "metadata": {},
   "outputs": [
    {
     "data": {
      "text/plain": [
       "{'age': 90, 'city': 'Nairobi'}"
      ]
     },
     "execution_count": 39,
     "metadata": {},
     "output_type": "execute_result"
    }
   ],
   "source": [
    "del person[\"Country\"]\n",
    "person"
   ]
  },
  {
   "cell_type": "code",
   "execution_count": 40,
   "id": "ec4b6146",
   "metadata": {},
   "outputs": [
    {
     "name": "stdout",
     "output_type": "stream",
     "text": [
      "age 90\n",
      "city Nairobi\n"
     ]
    }
   ],
   "source": [
    "for value,key in person.items():\n",
    "    print(value,key)"
   ]
  },
  {
   "cell_type": "code",
   "execution_count": 52,
   "id": "a3eaa412",
   "metadata": {},
   "outputs": [
    {
     "name": "stdout",
     "output_type": "stream",
     "text": [
      "age 90\n",
      "city Nairobi\n"
     ]
    }
   ],
   "source": [
    "for m,v in person.items():\n",
    "    print(m,v)"
   ]
  },
  {
   "cell_type": "code",
   "execution_count": 46,
   "id": "ec2f8d56",
   "metadata": {},
   "outputs": [
    {
     "name": "stdout",
     "output_type": "stream",
     "text": [
      "age 90\n",
      "city Nairobi\n"
     ]
    }
   ],
   "source": [
    "for keys,values in person.items():\n",
    "    print(keys,values)"
   ]
  },
  {
   "cell_type": "code",
   "execution_count": 56,
   "id": "5be9b3c7",
   "metadata": {},
   "outputs": [
    {
     "data": {
      "text/plain": [
       "{'name': 'cat', 'origin': 'asia', 'color': 'black'}"
      ]
     },
     "execution_count": 56,
     "metadata": {},
     "output_type": "execute_result"
    }
   ],
   "source": [
    "pets = {\"name\":'cat',\n",
    "        \"origin\":\"asia\",\n",
    "        \"color\":\"black\" \n",
    "         }\n",
    "pets"
   ]
  },
  {
   "cell_type": "code",
   "execution_count": 58,
   "id": "d8c57890",
   "metadata": {},
   "outputs": [
    {
     "name": "stdout",
     "output_type": "stream",
     "text": [
      "name cat\n",
      "origin asia\n",
      "color black\n"
     ]
    }
   ],
   "source": [
    "for name, value in pets.items():\n",
    "    print(name,value)"
   ]
  },
  {
   "cell_type": "code",
   "execution_count": 59,
   "id": "f8984762",
   "metadata": {},
   "outputs": [
    {
     "name": "stdout",
     "output_type": "stream",
     "text": [
      "Color: BLACK\n"
     ]
    }
   ],
   "source": [
    "print(f'{name.title()}: {value.upper()}')"
   ]
  },
  {
   "cell_type": "code",
   "execution_count": 60,
   "id": "84d807f4",
   "metadata": {},
   "outputs": [
    {
     "name": "stdout",
     "output_type": "stream",
     "text": [
      "Color: BLACK\n"
     ]
    }
   ],
   "source": [
    "    print(f'{name.title()}: {value.upper()}')"
   ]
  },
  {
   "cell_type": "code",
   "execution_count": 71,
   "id": "9b625cfe",
   "metadata": {},
   "outputs": [
    {
     "ename": "AttributeError",
     "evalue": "'str' object has no attribute 'color'",
     "output_type": "error",
     "traceback": [
      "\u001b[0;31m---------------------------------------------------------------------------\u001b[0m",
      "\u001b[0;31mAttributeError\u001b[0m                            Traceback (most recent call last)",
      "\u001b[0;32m/var/folders/gd/j9z6slqx4yn9_2s48t3qn3nm0000gn/T/ipykernel_28133/408840562.py\u001b[0m in \u001b[0;36m<module>\u001b[0;34m\u001b[0m\n\u001b[1;32m      4\u001b[0m \u001b[0mno_color\u001b[0m \u001b[0;34m=\u001b[0m \u001b[0;34m\"\\033[0m\"\u001b[0m\u001b[0;34m\u001b[0m\u001b[0;34m\u001b[0m\u001b[0m\n\u001b[1;32m      5\u001b[0m \u001b[0;32mfor\u001b[0m \u001b[0mname\u001b[0m\u001b[0;34m,\u001b[0m \u001b[0mvalue\u001b[0m \u001b[0;32min\u001b[0m \u001b[0mpets\u001b[0m\u001b[0;34m.\u001b[0m\u001b[0mitems\u001b[0m\u001b[0;34m(\u001b[0m\u001b[0;34m)\u001b[0m\u001b[0;34m:\u001b[0m\u001b[0;34m\u001b[0m\u001b[0;34m\u001b[0m\u001b[0m\n\u001b[0;32m----> 6\u001b[0;31m     \u001b[0mprint\u001b[0m\u001b[0;34m(\u001b[0m\u001b[0;34mf\"{red,name.title()}: {blue,value.color.blue()}\"\u001b[0m\u001b[0;34m)\u001b[0m\u001b[0;34m\u001b[0m\u001b[0;34m\u001b[0m\u001b[0m\n\u001b[0m\u001b[1;32m      7\u001b[0m \u001b[0mprint\u001b[0m\u001b[0;34m(\u001b[0m\u001b[0mno_color\u001b[0m\u001b[0;34m)\u001b[0m\u001b[0;34m\u001b[0m\u001b[0;34m\u001b[0m\u001b[0m\n",
      "\u001b[0;31mAttributeError\u001b[0m: 'str' object has no attribute 'color'"
     ]
    }
   ],
   "source": [
    "red = \"\\033[1;31m\"\n",
    "blue = \"\\033[1;34m\"\n",
    "green = \"\\033[1;32m\"\n",
    "no_color = \"\\033[0m\"\n",
    "for name, value in pets.items():\n",
    "    print(f\"{red,name.title()}: {blue,value.color.blue()}\")\n",
    "print(no_color)"
   ]
  },
  {
   "cell_type": "code",
   "execution_count": 72,
   "id": "1eb316b5",
   "metadata": {},
   "outputs": [
    {
     "ename": "KeyError",
     "evalue": "('key1', 'value1')",
     "output_type": "error",
     "traceback": [
      "\u001b[0;31m---------------------------------------------------------------------------\u001b[0m",
      "\u001b[0;31mKeyError\u001b[0m                                  Traceback (most recent call last)",
      "\u001b[0;32m/var/folders/gd/j9z6slqx4yn9_2s48t3qn3nm0000gn/T/ipykernel_28133/1466386230.py\u001b[0m in \u001b[0;36m<module>\u001b[0;34m\u001b[0m\n\u001b[1;32m     10\u001b[0m \u001b[0;34m\u001b[0m\u001b[0m\n\u001b[1;32m     11\u001b[0m \u001b[0;32mfor\u001b[0m \u001b[0mkey\u001b[0m \u001b[0;32min\u001b[0m \u001b[0mout\u001b[0m\u001b[0;34m.\u001b[0m\u001b[0mitems\u001b[0m \u001b[0;34m(\u001b[0m\u001b[0;34m)\u001b[0m \u001b[0;34m:\u001b[0m\u001b[0;34m\u001b[0m\u001b[0;34m\u001b[0m\u001b[0m\n\u001b[0;32m---> 12\u001b[0;31m     \u001b[0mprint\u001b[0m \u001b[0;34m(\u001b[0m\u001b[0mred\u001b[0m\u001b[0;34m,\u001b[0m \u001b[0mkey\u001b[0m\u001b[0;34m,\u001b[0m \u001b[0mblue\u001b[0m\u001b[0;34m,\u001b[0m \u001b[0mout\u001b[0m \u001b[0;34m[\u001b[0m\u001b[0mkey\u001b[0m\u001b[0;34m]\u001b[0m\u001b[0;34m)\u001b[0m\u001b[0;34m\u001b[0m\u001b[0;34m\u001b[0m\u001b[0m\n\u001b[0m\u001b[1;32m     13\u001b[0m \u001b[0mprint\u001b[0m \u001b[0;34m(\u001b[0m\u001b[0mno_color\u001b[0m\u001b[0;34m)\u001b[0m\u001b[0;34m\u001b[0m\u001b[0;34m\u001b[0m\u001b[0m\n",
      "\u001b[0;31mKeyError\u001b[0m: ('key1', 'value1')"
     ]
    }
   ],
   "source": [
    "red = \"\\033[1;31m\"\n",
    "blue = \"\\033[1;34m\"\n",
    "green = \"\\033[1;32m\"\n",
    "no_color = \"\\033[0m\"\n",
    "\n",
    "out = {\n",
    "    'key1' : 'value1',\n",
    "    'key2' : 'value2',\n",
    "    'key3' : 'value3' }\n",
    "\n",
    "for key in out.items () :\n",
    "    print (red, key, blue, out [key])\n",
    "print (no_color)"
   ]
  },
  {
   "cell_type": "markdown",
   "id": "8602db4c",
   "metadata": {},
   "source": []
  }
 ],
 "metadata": {
  "kernelspec": {
   "display_name": "Python 3 (ipykernel)",
   "language": "python",
   "name": "python3"
  },
  "language_info": {
   "codemirror_mode": {
    "name": "ipython",
    "version": 3
   },
   "file_extension": ".py",
   "mimetype": "text/x-python",
   "name": "python",
   "nbconvert_exporter": "python",
   "pygments_lexer": "ipython3",
   "version": "3.9.7"
  }
 },
 "nbformat": 4,
 "nbformat_minor": 5
}
