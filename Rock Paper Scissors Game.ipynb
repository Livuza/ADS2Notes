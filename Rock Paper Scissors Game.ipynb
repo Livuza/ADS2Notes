{
 "cells": [
  {
   "cell_type": "code",
   "execution_count": null,
   "id": "5210d70e",
   "metadata": {},
   "outputs": [
    {
     "name": "stdout",
     "output_type": "stream",
     "text": [
      "Make your choice:\n",
      "r\n",
      "My choice is r\n",
      "Computer choice is scissors\n",
      "invalid choice, try again\n",
      "\n",
      "Make your choice:\n",
      "rock\n",
      "My choice is rock\n",
      "Computer choice is rock\n",
      "it is a tie\n",
      "\n",
      "Make your choice:\n"
     ]
    }
   ],
   "source": [
    "import random\n",
    "\n",
    "while True: \n",
    "    print('Make your choice:')\n",
    "    choice = str(input())\n",
    "    choice = choice.lower()\n",
    "\n",
    "    print(\"My choice is\", choice)\n",
    "\n",
    "    choices = ['rock', 'paper', 'scissors']\n",
    "\n",
    "    computer_choice = random.choice(choices)\n",
    "\n",
    "    print(\"Computer choice is\", computer_choice)\n",
    "    if choice in choices:\n",
    "        if choice == computer_choice:\n",
    "            print('it is a tie')\n",
    "        if choice == 'rock':\n",
    "            if computer_choice == 'paper':\n",
    "                print('you lose, sorry :(')\n",
    "            elif computer_choice == 'scissors':\n",
    "                print('You win!!!!! congrats :)')\n",
    "        if choice == 'paper':\n",
    "            if computer_choice == 'scissors':\n",
    "                print('you lose, sorry :(')\n",
    "            elif computer_choice == 'rock':\n",
    "                print('You win!!!!! congrats :)')\n",
    "        if choice == 'scissors':\n",
    "            if computer_choice == 'rock':\n",
    "                print('you lose, sorry :(')\n",
    "            elif computer_choice == 'paper':\n",
    "                print('You win!!!!! congrats :)')\n",
    "    else:\n",
    "        print('invalid choice, try again')\n",
    "\n",
    "    print()"
   ]
  },
  {
   "cell_type": "code",
   "execution_count": 3,
   "id": "3aa89ea4",
   "metadata": {},
   "outputs": [
    {
     "data": {
      "text/plain": [
       "bool"
      ]
     },
     "execution_count": 3,
     "metadata": {},
     "output_type": "execute_result"
    }
   ],
   "source": [
    "a=True\n",
    "type(a)"
   ]
  },
  {
   "cell_type": "code",
   "execution_count": 6,
   "id": "c5d01fa8",
   "metadata": {},
   "outputs": [
    {
     "data": {
      "text/plain": [
       "tuple"
      ]
     },
     "execution_count": 6,
     "metadata": {},
     "output_type": "execute_result"
    }
   ],
   "source": [
    "q= (\"Charles\", \"Pauline\")\n",
    "type(q)"
   ]
  },
  {
   "cell_type": "code",
   "execution_count": 8,
   "id": "947112e4",
   "metadata": {},
   "outputs": [
    {
     "data": {
      "text/plain": [
       "int"
      ]
     },
     "execution_count": 8,
     "metadata": {},
     "output_type": "execute_result"
    }
   ],
   "source": [
    "a=4+5\n",
    "type(a)"
   ]
  },
  {
   "cell_type": "code",
   "execution_count": 11,
   "id": "8b38f126",
   "metadata": {},
   "outputs": [
    {
     "data": {
      "text/plain": [
       "['kawasaki', 'honda', 'yamaha', 'suzuki']"
      ]
     },
     "execution_count": 11,
     "metadata": {},
     "output_type": "execute_result"
    }
   ],
   "source": [
    "bikes = ['kawasaki', 'honda', 'yamaha', 'suzuki']\n",
    "bikes"
   ]
  },
  {
   "cell_type": "code",
   "execution_count": 14,
   "id": "f6d4d56a",
   "metadata": {},
   "outputs": [],
   "source": [
    "bikes[-1] = \"Harley-Davidson\""
   ]
  },
  {
   "cell_type": "code",
   "execution_count": 15,
   "id": "0442c5e4",
   "metadata": {},
   "outputs": [
    {
     "data": {
      "text/plain": [
       "['Harley-Davidson', 'honda', 'yamaha', 'Harley-Davidson']"
      ]
     },
     "execution_count": 15,
     "metadata": {},
     "output_type": "execute_result"
    }
   ],
   "source": [
    "bikes"
   ]
  },
  {
   "cell_type": "code",
   "execution_count": 18,
   "id": "0401f61a",
   "metadata": {},
   "outputs": [
    {
     "data": {
      "text/plain": [
       "['Harley-Davidson', 'honda', 'yamaha', 'Harley-Davidson']"
      ]
     },
     "execution_count": 18,
     "metadata": {},
     "output_type": "execute_result"
    }
   ],
   "source": [
    "bikes"
   ]
  },
  {
   "cell_type": "code",
   "execution_count": 22,
   "id": "65016895",
   "metadata": {},
   "outputs": [],
   "source": [
    "def greet_user():\n",
    "    \"\"\"This function Greets the user\"\"\"\n",
    "    print('Hello')"
   ]
  },
  {
   "cell_type": "code",
   "execution_count": 26,
   "id": "f11b2b62",
   "metadata": {},
   "outputs": [
    {
     "name": "stdout",
     "output_type": "stream",
     "text": [
      "Hello\n"
     ]
    }
   ],
   "source": [
    "greet_user.__doc__\n",
    "greet_user()"
   ]
  },
  {
   "cell_type": "code",
   "execution_count": 20,
   "id": "3478999f",
   "metadata": {},
   "outputs": [
    {
     "data": {
      "text/plain": [
       "int"
      ]
     },
     "execution_count": 20,
     "metadata": {},
     "output_type": "execute_result"
    }
   ],
   "source": [
    "a=4\n",
    "type(a)"
   ]
  },
  {
   "cell_type": "code",
   "execution_count": 21,
   "id": "9252ddd8",
   "metadata": {},
   "outputs": [
    {
     "data": {
      "text/plain": [
       "\"print(value, ..., sep=' ', end='\\\\n', file=sys.stdout, flush=False)\\n\\nPrints the values to a stream, or to sys.stdout by default.\\nOptional keyword arguments:\\nfile:  a file-like object (stream); defaults to the current sys.stdout.\\nsep:   string inserted between values, default a space.\\nend:   string appended after the last value, default a newline.\\nflush: whether to forcibly flush the stream.\""
      ]
     },
     "execution_count": 21,
     "metadata": {},
     "output_type": "execute_result"
    }
   ],
   "source": [
    "print.__doc__"
   ]
  },
  {
   "cell_type": "code",
   "execution_count": 33,
   "id": "0b12a3a7",
   "metadata": {},
   "outputs": [
    {
     "name": "stdout",
     "output_type": "stream",
     "text": [
      "Hello, grandpa.\n"
     ]
    }
   ],
   "source": [
    "def greet_user(username):\n",
    "    \"\"\"Greets user\"\"\"\n",
    "    print(f\"Hello, {username}.\")\n",
    "greet_user(\"grandpa\")"
   ]
  },
  {
   "cell_type": "code",
   "execution_count": 38,
   "id": "5e02bcb5",
   "metadata": {},
   "outputs": [
    {
     "name": "stdout",
     "output_type": "stream",
     "text": [
      "Hello, Mary.\n",
      "Hello, Myles.\n",
      "Hello, Martin.\n",
      "Hello, Martha.\n"
     ]
    }
   ],
   "source": [
    "users = ['Mary', 'Myles', 'Martin', 'Martha']\n",
    "def greet_user(users):\n",
    "    for user in users:\n",
    "        print(f\"Hello, {user}.\")\n",
    "greet_user(users)"
   ]
  },
  {
   "cell_type": "code",
   "execution_count": 41,
   "id": "9fc8c427",
   "metadata": {},
   "outputs": [
    {
     "name": "stdout",
     "output_type": "stream",
     "text": [
      "Hello, 1\n",
      "Hello, 5\n",
      "Hello, 7\n",
      "Hello, 11\n"
     ]
    }
   ],
   "source": [
    "nums = [1,5,7,11]\n",
    "def greet_user(nums):\n",
    "    for num in nums:\n",
    "        print(f\"Hello, {num}\")\n",
    "greet_user(nums)"
   ]
  },
  {
   "cell_type": "code",
   "execution_count": 50,
   "id": "95241222",
   "metadata": {},
   "outputs": [
    {
     "name": "stdout",
     "output_type": "stream",
     "text": [
      "My dog's name is\n",
      "\tCody\n"
     ]
    }
   ],
   "source": [
    "text = 'My dog\\'s name is\\n\\tCody'\n",
    "print(text)"
   ]
  },
  {
   "cell_type": "code",
   "execution_count": 51,
   "id": "8571ffb6",
   "metadata": {},
   "outputs": [
    {
     "data": {
      "text/plain": [
       "int"
      ]
     },
     "execution_count": 51,
     "metadata": {},
     "output_type": "execute_result"
    }
   ],
   "source": [
    "a=6\n",
    "type(a)"
   ]
  },
  {
   "cell_type": "code",
   "execution_count": 52,
   "id": "4f428263",
   "metadata": {},
   "outputs": [
    {
     "name": "stdout",
     "output_type": "stream",
     "text": [
      "Charles\n",
      "27\n",
      "Uganda\n",
      "38\n",
      "Kenya\n"
     ]
    }
   ],
   "source": [
    "def user(*args):\n",
    "    for user_info in args:\n",
    "        print(user_info)\n",
    "user('Charles', 27, 'Uganda', 38, 'Kenya')"
   ]
  },
  {
   "cell_type": "code",
   "execution_count": 59,
   "id": "84feec14",
   "metadata": {},
   "outputs": [
    {
     "name": "stdout",
     "output_type": "stream",
     "text": [
      "Charles\n",
      "27\n",
      "Uganda\n",
      "38\n",
      "Kenya\n"
     ]
    }
   ],
   "source": [
    "def user(*args):\n",
    "    for user_info in args:\n",
    "        print(user_info)\n",
    "user('Charles', 27, 'Uganda', 38, 'Kenya')"
   ]
  },
  {
   "cell_type": "code",
   "execution_count": 60,
   "id": "8817b1f1",
   "metadata": {},
   "outputs": [
    {
     "name": "stdout",
     "output_type": "stream",
     "text": [
      "name: Charles\n",
      "age: 27\n",
      "country: Uganda\n",
      "country_no: 38\n"
     ]
    }
   ],
   "source": [
    "def user(**kwargs:int):\n",
    "    for k,v in kwargs.items():\n",
    "        print(f'{k}: {v}')\n",
    "user(name='Charles', age='27', country='Uganda', country_no='38')"
   ]
  },
  {
   "cell_type": "code",
   "execution_count": 68,
   "id": "ec4c9d76",
   "metadata": {},
   "outputs": [
    {
     "name": "stdout",
     "output_type": "stream",
     "text": [
      "288\n"
     ]
    }
   ],
   "source": [
    "def squared(n):\n",
    "    return n **2\n",
    "result = squared(6)\n",
    "print(result *8)\n",
    "    "
   ]
  },
  {
   "cell_type": "code",
   "execution_count": 69,
   "id": "3ef21ede",
   "metadata": {},
   "outputs": [
    {
     "name": "stdout",
     "output_type": "stream",
     "text": [
      "25\n"
     ]
    }
   ],
   "source": [
    "def number(a):\n",
    "    return a*a\n",
    "print(number(5))"
   ]
  },
  {
   "cell_type": "code",
   "execution_count": 72,
   "id": "6210b047",
   "metadata": {},
   "outputs": [
    {
     "name": "stdout",
     "output_type": "stream",
     "text": [
      "36\n"
     ]
    }
   ],
   "source": [
    "def number(a):\n",
    "    return a**2\n",
    "print(number(6))"
   ]
  },
  {
   "cell_type": "code",
   "execution_count": null,
   "id": "322207b1",
   "metadata": {},
   "outputs": [],
   "source": []
  }
 ],
 "metadata": {
  "kernelspec": {
   "display_name": "Python 3 (ipykernel)",
   "language": "python",
   "name": "python3"
  },
  "language_info": {
   "codemirror_mode": {
    "name": "ipython",
    "version": 3
   },
   "file_extension": ".py",
   "mimetype": "text/x-python",
   "name": "python",
   "nbconvert_exporter": "python",
   "pygments_lexer": "ipython3",
   "version": "3.9.7"
  }
 },
 "nbformat": 4,
 "nbformat_minor": 5
}
