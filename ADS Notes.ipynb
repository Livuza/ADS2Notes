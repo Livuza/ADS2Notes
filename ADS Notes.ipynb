{
 "cells": [
  {
   "cell_type": "code",
   "execution_count": 1,
   "id": "c1e4a4d9",
   "metadata": {},
   "outputs": [
    {
     "data": {
      "text/plain": [
       "int"
      ]
     },
     "execution_count": 1,
     "metadata": {},
     "output_type": "execute_result"
    }
   ],
   "source": [
    "a=5\n",
    "type(a)"
   ]
  },
  {
   "cell_type": "code",
   "execution_count": 2,
   "id": "336c7b75",
   "metadata": {},
   "outputs": [],
   "source": [
    "cohort = {\n",
    "    'course': 'Data Science', \n",
    "    'start':'Jan', \n",
    "    'end': 'Mar',\n",
    "    'students': [\n",
    "        {\n",
    "            'name': 'Njogu',\n",
    "            'age': 30, \n",
    "            'country': 'Kenya',\n",
    "            'assignment_scores': {'assignment_1': 50, 'assignment_2': 70, 'assignment_3': 65}\n",
    "        },\n",
    "        {\n",
    "            'name': 'Chinedu',\n",
    "            'age': 29,\n",
    "            'country': 'Nigeria',\n",
    "            'assignment_scores': {'assignment_1': 55, 'assignment_2': 60, 'assignment_3': 85}\n",
    "        }\n",
    "    ]\n",
    "}"
   ]
  },
  {
   "cell_type": "code",
   "execution_count": 3,
   "id": "9f3ad05d",
   "metadata": {},
   "outputs": [
    {
     "data": {
      "text/plain": [
       "int"
      ]
     },
     "execution_count": 3,
     "metadata": {},
     "output_type": "execute_result"
    }
   ],
   "source": [
    "a=5\n",
    "type(a)"
   ]
  },
  {
   "cell_type": "code",
   "execution_count": 15,
   "id": "24bcf0e5",
   "metadata": {},
   "outputs": [
    {
     "data": {
      "text/plain": [
       "{'name': 'Charles', 'age': 77, 'Country': 'UK'}"
      ]
     },
     "execution_count": 15,
     "metadata": {},
     "output_type": "execute_result"
    }
   ],
   "source": [
    "person = {\"name\": \"Charles\", \"age\":77, \"Country\": \"UK\"}\n",
    "person"
   ]
  },
  {
   "cell_type": "code",
   "execution_count": 17,
   "id": "4c8c9d6b",
   "metadata": {},
   "outputs": [
    {
     "data": {
      "text/plain": [
       "'Charles'"
      ]
     },
     "execution_count": 17,
     "metadata": {},
     "output_type": "execute_result"
    }
   ],
   "source": [
    "name = person['name']\n",
    "name"
   ]
  },
  {
   "cell_type": "code",
   "execution_count": 25,
   "id": "9f063eb2",
   "metadata": {},
   "outputs": [
    {
     "data": {
      "text/plain": [
       "77"
      ]
     },
     "execution_count": 25,
     "metadata": {},
     "output_type": "execute_result"
    }
   ],
   "source": [
    "Country = person['Country']\n",
    "age"
   ]
  },
  {
   "cell_type": "code",
   "execution_count": 53,
   "id": "8918a30b",
   "metadata": {},
   "outputs": [
    {
     "name": "stdout",
     "output_type": "stream",
     "text": [
      "Enter a choice(scissors,paper,rock): r\n",
      "You chose r, computer chose scissors.\n"
     ]
    }
   ],
   "source": [
    "import random\n",
    "user_action = input(\"Enter a choice(scissors,paper,rock): \")\n",
    "possible_actions = [\"scissors\",\"paper\",\"rock\"]\n",
    "computer_action = random.choice(possible_actions)\n",
    "print(f\"You chose {user_action}, computer chose {computer_action}.\")\n",
    "if user_action == computer_action:\n",
    "    print(f\"both players selected {user_action}. You tied!\")\n",
    "elif user_action == \"scissors\":\n",
    "    if computer_action == \"rock\":\n",
    "        print(\"Rock smashes scissors. You lose!\")\n",
    "    else:\n",
    "        print (\"scissors cuts paper. You win!\")\n",
    "elif user_action ==\" rock\":\n",
    "    if computer_action == \"paper\":\n",
    "        print(\" paper smashes rock. You lose!\")\n",
    "    else:\n",
    "        print(\"Rock smashes scissors. You win!\")\n",
    "elif user_action== \"paper\":\n",
    "    if computer_action == \"scissors\":\n",
    "        print(\"scissors cuts paper. You lose!\")\n",
    "    else:\n",
    "        print(\"Paper smashes rock. You win!\")"
   ]
  },
  {
   "cell_type": "code",
   "execution_count": 54,
   "id": "f5a0a8ae",
   "metadata": {},
   "outputs": [
    {
     "name": "stdout",
     "output_type": "stream",
     "text": [
      "1\n",
      "3\n",
      "5\n",
      "7\n",
      "9\n"
     ]
    }
   ],
   "source": [
    "number = 0\n",
    "while number < 10:\n",
    "    number += 1\n",
    "    if number % 2 == 0:\n",
    "        continue\n",
    "    print(number)"
   ]
  },
  {
   "cell_type": "code",
   "execution_count": 55,
   "id": "86665dce",
   "metadata": {},
   "outputs": [
    {
     "data": {
      "text/plain": [
       "0.0"
      ]
     },
     "execution_count": 55,
     "metadata": {},
     "output_type": "execute_result"
    }
   ],
   "source": [
    "0/2"
   ]
  },
  {
   "cell_type": "code",
   "execution_count": 56,
   "id": "47df00f4",
   "metadata": {},
   "outputs": [
    {
     "data": {
      "text/plain": [
       "1.6666666666666667"
      ]
     },
     "execution_count": 56,
     "metadata": {},
     "output_type": "execute_result"
    }
   ],
   "source": [
    "5/3"
   ]
  },
  {
   "cell_type": "code",
   "execution_count": null,
   "id": "26b404f7",
   "metadata": {},
   "outputs": [
    {
     "name": "stdout",
     "output_type": "stream",
     "text": [
      "Make your choice:\n",
      "r\n",
      "My choice is r\n",
      "Computer choice is paper\n",
      "invalid choice, try again\n",
      "\n",
      "Make your choice:\n"
     ]
    }
   ],
   "source": [
    "import random\n",
    "\n",
    "while True: \n",
    "    print('Make your choice:')\n",
    "    choice = str(input())\n",
    "    choice = choice.lower()\n",
    "\n",
    "    print(\"Your choice is\", choice)\n",
    "\n",
    "    choices = ['rock', 'paper', 'scissors']\n",
    "\n",
    "    computer_choice = random.choice(choices)\n",
    "\n",
    "    print(\"Computer choice is\", computer_choice)\n",
    "    if choice in choices:\n",
    "        if choice == computer_choice:\n",
    "            print('it is a tie')\n",
    "        if choice == 'rock':\n",
    "            if computer_choice == 'paper':\n",
    "                print('you lose, sorry :(')\n",
    "            elif computer_choice == 'scissors':\n",
    "                print('You win!!!!! congrats :)')\n",
    "        if choice == 'paper':\n",
    "            if computer_choice == 'scissors':\n",
    "                print('you lose, sorry :(')\n",
    "            elif computer_choice == 'rock':\n",
    "                print('You win!!!!! congrats :)')\n",
    "        if choice == 'scissors':\n",
    "            if computer_choice == 'rock':\n",
    "                print('you lose, sorry :(')\n",
    "            elif computer_choice == 'paper':\n",
    "                print('You win!!!!! congrats :)')\n",
    "    else:\n",
    "        print('invalid choice, try again')\n",
    "\n",
    "    print()"
   ]
  },
  {
   "cell_type": "code",
   "execution_count": null,
   "id": "438587db",
   "metadata": {},
   "outputs": [],
   "source": []
  }
 ],
 "metadata": {
  "kernelspec": {
   "display_name": "Python 3 (ipykernel)",
   "language": "python",
   "name": "python3"
  },
  "language_info": {
   "codemirror_mode": {
    "name": "ipython",
    "version": 3
   },
   "file_extension": ".py",
   "mimetype": "text/x-python",
   "name": "python",
   "nbconvert_exporter": "python",
   "pygments_lexer": "ipython3",
   "version": "3.9.7"
  }
 },
 "nbformat": 4,
 "nbformat_minor": 5
}
