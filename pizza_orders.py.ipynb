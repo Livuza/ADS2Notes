{
 "cells": [
  {
   "cell_type": "code",
   "execution_count": 1,
   "id": "0e328af6",
   "metadata": {},
   "outputs": [
    {
     "name": "stdout",
     "output_type": "stream",
     "text": [
      "Automatic Pizza Order Program\n",
      "What size of pizza would you like to order: S, M, L? S\n",
      "Would you like a pepperoni topping? for yes, nono\n",
      "Would you like cheese, yes, noyes\n",
      "Your total is $16\n"
     ]
    }
   ],
   "source": [
    "#Pizza order\n",
    "print(\"Automatic Pizza Order Program\")\n",
    "pizza_size = input(\"What size of pizza would you like to order: S, M, L? \")\n",
    "pepperoni = input(\"Would you like a pepperoni topping? for yes, no\")\n",
    "cheese = input(\"Would you like cheese, yes, no\")\n",
    "bill = 0\n",
    "if pizza_size == \"S\":\n",
    "    bill += 15\n",
    "if pizza_size == \"M\":\n",
    "    bill += 20\n",
    "if pizza_size == \"L\":\n",
    "    bill +=25\n",
    "\n",
    "if pepperoni == \"yes\" and pizza_size == \"S\":\n",
    "    bill += 2\n",
    "if pepperoni == \"yes\" and pizza_size == \"M\" or pizza_size == \"L\":\n",
    "    bill += 3\n",
    "if cheese == \"yes\":\n",
    "    bill += 1\n",
    "print(f\"Your total is ${bill}\")"
   ]
  },
  {
   "cell_type": "code",
   "execution_count": null,
   "id": "31bb7a1d",
   "metadata": {},
   "outputs": [],
   "source": []
  }
 ],
 "metadata": {
  "kernelspec": {
   "display_name": "myenv",
   "language": "python",
   "name": "myenv"
  },
  "language_info": {
   "codemirror_mode": {
    "name": "ipython",
    "version": 3
   },
   "file_extension": ".py",
   "mimetype": "text/x-python",
   "name": "python",
   "nbconvert_exporter": "python",
   "pygments_lexer": "ipython3",
   "version": "3.9.7"
  }
 },
 "nbformat": 4,
 "nbformat_minor": 5
}
