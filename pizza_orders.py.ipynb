{
 "cells": [
  {
   "cell_type": "code",
   "execution_count": null,
   "id": "0e328af6",
   "metadata": {},
   "outputs": [],
   "source": [
    "#Pizza order\n",
    "print(\"Automatic Pizza Order Program\")\n",
    "pizza_size = input(\"What size of pizza would you like to order: (S/M/L) \")\n",
    "\n",
    "\n",
    "bill = 0\n",
    "if pizza_size.lower() == \"s\":\n",
    "    bill = 15\n",
    "if pizza_size.lower() == \"m\":\n",
    "    bill = 20\n",
    "if pizza_size.lower() == \"l\":\n",
    "    bill =25\n",
    "else:\n",
    "    print(f\"{pizza_size} is an invalid input\")\n",
    "print(\"The end\")\n",
    "#extra peperoni\n",
    "pepperoni = input(\"Would you like a pepperoni topping (y/n) \")\n",
    "if pepperoni.lower() == \"y\" and pizza_size.lower() == \"s\":\n",
    "    bill += 2\n",
    "if pepperoni.lower() == \"y\" and pizza_size.lower() == \"m\" and pizza_size.lower() == \"l\":\n",
    "    bill += 3\n",
    "#Cheese\n",
    "cheese = input(\"Would you like cheese, (y/n) \")\n",
    "if cheese.lower() == \"y\":\n",
    "    bill += 1\n",
    "print(f\"Your total is ${bill}\")"
   ]
  },
  {
   "cell_type": "code",
   "execution_count": null,
   "id": "b998f148",
   "metadata": {},
   "outputs": [],
   "source": [
    "names = ['Elon Musk', 'Steve Jobs', 'Larry Page', 'Sergey Brin', 'Bill Gates']\n",
    "for x in names:\n",
    "    print(x.split()[0])"
   ]
  },
  {
   "cell_type": "code",
   "execution_count": 20,
   "id": "5d225689",
   "metadata": {},
   "outputs": [
    {
     "name": "stdout",
     "output_type": "stream",
     "text": [
      "[0, 1, 2, 3, 4, 5, 6, 7, 8, 9]\n"
     ]
    }
   ],
   "source": [
    "range(10)\n",
    "print(list(range(10)))"
   ]
  },
  {
   "cell_type": "code",
   "execution_count": 24,
   "id": "48b78ce6",
   "metadata": {},
   "outputs": [
    {
     "name": "stdout",
     "output_type": "stream",
     "text": [
      "Hello Elon Musk\n",
      "Hello Steve Jobs\n",
      "Hello Larry Page\n",
      "Hello Sergey Brin\n",
      "Hello Bill Gates\n"
     ]
    }
   ],
   "source": [
    "visitors = ['Elon Musk', 'Steve Jobs', 'Larry Page', 'Sergey Brin', 'Bill Gates']\n",
    "for i in range(len(visitors)):\n",
    "    print(f\"Hello {visitors[i]}\")"
   ]
  },
  {
   "cell_type": "code",
   "execution_count": null,
   "id": "c8c07ca7",
   "metadata": {},
   "outputs": [],
   "source": [
    "len(visitors)"
   ]
  },
  {
   "cell_type": "code",
   "execution_count": null,
   "id": "a9b917ec",
   "metadata": {},
   "outputs": [],
   "source": [
    "n = 5\n",
    "i = 0\n",
    "total = 0\n",
    "while i <= n:\n",
    "    total += i\n",
    "print(total)"
   ]
  },
  {
   "cell_type": "code",
   "execution_count": null,
   "id": "b25b2d36",
   "metadata": {},
   "outputs": [],
   "source": [
    "draw.io - use p"
   ]
  }
 ],
 "metadata": {
  "kernelspec": {
   "display_name": "myenv",
   "language": "python",
   "name": "myenv"
  },
  "language_info": {
   "codemirror_mode": {
    "name": "ipython",
    "version": 3
   },
   "file_extension": ".py",
   "mimetype": "text/x-python",
   "name": "python",
   "nbconvert_exporter": "python",
   "pygments_lexer": "ipython3",
   "version": "3.9.7"
  }
 },
 "nbformat": 4,
 "nbformat_minor": 5
}
